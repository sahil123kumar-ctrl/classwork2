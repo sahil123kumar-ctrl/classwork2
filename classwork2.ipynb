{
 "cells": [
  {
   "cell_type": "code",
   "execution_count": 3,
   "id": "2f491a0e-9e20-4211-8484-cd460037485b",
   "metadata": {},
   "outputs": [],
   "source": [
    "import os"
   ]
  },
  {
   "cell_type": "code",
   "execution_count": 7,
   "id": "eefa8447-eccd-4d64-a237-b8b9cdb8628e",
   "metadata": {},
   "outputs": [],
   "source": [
    "# 1. create a new directory:\n",
    "\n",
    "# here name of my directory is geekster_classwork_2:\n",
    "\n",
    "os.mkdir(\"sahil_classwork_2\")\n"
   ]
  },
  {
   "cell_type": "code",
   "execution_count": 9,
   "id": "41c83cbc-a495-4d9f-b7ef-bd41edcee8d8",
   "metadata": {},
   "outputs": [
    {
     "data": {
      "text/plain": [
       "'C:\\\\Users\\\\lordo\\\\eda_classworks'"
      ]
     },
     "execution_count": 9,
     "metadata": {},
     "output_type": "execute_result"
    }
   ],
   "source": [
    "os.getcwd()"
   ]
  },
  {
   "cell_type": "code",
   "execution_count": 11,
   "id": "f1982fd3-ebb6-411f-97db-0be980e8b7f9",
   "metadata": {},
   "outputs": [
    {
     "data": {
      "text/plain": [
       "['.ipynb_checkpoints', 'classwork2.ipynb', 'sahil_classwork_2']"
      ]
     },
     "execution_count": 11,
     "metadata": {},
     "output_type": "execute_result"
    }
   ],
   "source": [
    "# 2 List all files and directories in the current working directory.\n",
    "\n",
    "os.listdir('.')"
   ]
  },
  {
   "cell_type": "code",
   "execution_count": 13,
   "id": "8d6467f8-fdad-41b2-aa5f-3ed551a2ef73",
   "metadata": {},
   "outputs": [],
   "source": [
    "# 3 Create a new text file within the newly created directory and write some content to it.\n",
    "\n",
    "# name of file is : classwork_2.txt\n",
    "\n",
    "with open(\"sahil_classwork_2/classwork_2.txt\",\"w\") as file:\n",
    "    file.write(\"MY NAME IS SAHIL KUMAR.I AM FROM HARYANA.\")"
   ]
  },
  {
   "cell_type": "code",
   "execution_count": 15,
   "id": "76ae3fc3-dc45-4cf9-a4b0-02bc87a7aa1c",
   "metadata": {},
   "outputs": [
    {
     "name": "stdout",
     "output_type": "stream",
     "text": [
      "MY NAME IS SAHIL KUMAR.I AM FROM HARYANA.\n"
     ]
    }
   ],
   "source": [
    "# 4.  Read the content of the newly created text file\n",
    "\n",
    "print(open(\"sahil_classwork_2/classwork_2.txt\").read())"
   ]
  },
  {
   "cell_type": "code",
   "execution_count": 17,
   "id": "ec54e669-2bcb-4130-8cb4-f5a211c96f99",
   "metadata": {},
   "outputs": [],
   "source": [
    "# 6 renaming the above text file:\n",
    "\n",
    "# previous file name = classwork_2.txt.\n",
    "\n",
    "# new file name = sample.txt\n",
    "\n",
    "os.rename('sahil_classwork_2/classwork_2.txt','sahil_classwork_2/sample.txt')"
   ]
  },
  {
   "cell_type": "code",
   "execution_count": 19,
   "id": "2b7cd26d-9fd6-4058-a7a7-93be4f0bd97e",
   "metadata": {},
   "outputs": [
    {
     "data": {
      "text/plain": [
       "['.ipynb_checkpoints', 'classwork2.ipynb', 'sahil_classwork_2']"
      ]
     },
     "execution_count": 19,
     "metadata": {},
     "output_type": "execute_result"
    }
   ],
   "source": [
    "os.listdir('.')"
   ]
  },
  {
   "cell_type": "code",
   "execution_count": 23,
   "id": "6dea4a2b-373b-4e70-962b-7465429c64df",
   "metadata": {},
   "outputs": [
    {
     "data": {
      "text/plain": [
       "['sample.txt']"
      ]
     },
     "execution_count": 23,
     "metadata": {},
     "output_type": "execute_result"
    }
   ],
   "source": [
    "# 7 List all files and directories in the new directory after renaming the file\n",
    "\n",
    "os.listdir(\"sahil_classwork_2\")"
   ]
  },
  {
   "cell_type": "code",
   "execution_count": 25,
   "id": "4b128fc0-e8f4-4045-bcff-285b29c3dba5",
   "metadata": {},
   "outputs": [],
   "source": [
    "# 8.Delete the new directory and its contents. \n",
    "\n",
    "import shutil  # shutil stands for shell utilities.\n"
   ]
  },
  {
   "cell_type": "code",
   "execution_count": 27,
   "id": "f1881d47-12e7-4849-9b99-99f6f41e77de",
   "metadata": {},
   "outputs": [],
   "source": [
    "shutil.rmtree(\"sahil_classwork_2\") # rmtree function deletes the entire directory and its content."
   ]
  },
  {
   "cell_type": "code",
   "execution_count": null,
   "id": "eaefcaa4-6f6c-4e81-a37a-50f65018d578",
   "metadata": {},
   "outputs": [],
   "source": []
  }
 ],
 "metadata": {
  "kernelspec": {
   "display_name": "Python 3 (ipykernel)",
   "language": "python",
   "name": "python3"
  },
  "language_info": {
   "codemirror_mode": {
    "name": "ipython",
    "version": 3
   },
   "file_extension": ".py",
   "mimetype": "text/x-python",
   "name": "python",
   "nbconvert_exporter": "python",
   "pygments_lexer": "ipython3",
   "version": "3.12.7"
  }
 },
 "nbformat": 4,
 "nbformat_minor": 5
}
