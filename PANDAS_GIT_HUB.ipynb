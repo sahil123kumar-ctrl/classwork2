{
 "cells": [
  {
   "cell_type": "markdown",
   "id": "9a3ec83b-a16b-4f43-85f7-f2b636091f00",
   "metadata": {},
   "source": [
    "# PANDAS"
   ]
  },
  {
   "cell_type": "markdown",
   "id": "6ffcd6cf-aea6-49bd-84cc-6270f328141d",
   "metadata": {},
   "source": [
    "# THE NAME PANDAS HAS A REFERENCE TO BOTH PANEL DATA AND PYTHON DATA ANALYSIS AND WAS CREATED BY WES MCKINNEY IN 2008:\n",
    "\n",
    "# PANDAS IS A PYTHON LIBRARY USED FOR WORKING WITH THE DATASETS:\n",
    "\n",
    "# IT HAS FUNCTION FOR ANALYSING , CLEANING , EXPLORING AND MANIPULATING DATA\n",
    "\n",
    "# READ AND WRITE DATA STRUCTURES AND DIFFERENT FORMATS : , CSV , XML , JSON , ZIP;\n"
   ]
  },
  {
   "cell_type": "markdown",
   "id": "f4c7dffb-41e5-4352-ab7d-d97ea44578ca",
   "metadata": {},
   "source": [
    "# THREE DATA STRUCTURES:\n",
    "\n",
    "# 1 . SERIES = ONE - DIMENSIONAL LABELED ARRAYS PD.SERIES(DATA)\n",
    "\n",
    "# DATAFRAMES = TWO DIMENSIONAL DATA STRUCTURE WITH COLUMNS , MUCH LIKE A TABLE\n",
    "\n",
    "# PANEL = A PANEL IS A 3D CONTAINER OF DATA"
   ]
  },
  {
   "cell_type": "code",
   "execution_count": 5,
   "id": "989eb4a2-74db-4c3b-8c08-ecc2776f6dc2",
   "metadata": {},
   "outputs": [],
   "source": [
    "import pandas as pd"
   ]
  },
  {
   "cell_type": "markdown",
   "id": "95c6e710-e5fd-4654-b6f2-871563dcc1de",
   "metadata": {},
   "source": [
    "# IMPORTANCE OF PANDAS IN PYTHON:\n",
    "\n",
    "# PANDAS ALLOWS US TO ANALYSE BIG DATA AND MAKE CONCLUSION BASED ON THE STATISTICAL THEORIES:\n",
    "\n",
    "# PANDAS CAN CLEAN MESSY DATA SETS , AND MAKE THEM READABLE AND RELEVANT:\n",
    "\n",
    "# EASY HANDLING OF MISSING DATA IN FLOATING POINT AS WELLL AS NON FLOATING POINT DATA\n",
    "\n",
    "# COLUMNS CAN BE INSERTED AND DELETED FROM DATAFRAME AND HIGHER DIMENSIONAL OBJECTS:\n",
    "\n",
    "# FLEXIBLE RESHAPING AND PIVOTING OF DATA SETS PROVIDE TIME SERIES FUNCTIONALITY\n",
    "\n"
   ]
  },
  {
   "cell_type": "markdown",
   "id": "f2f498f6-18d5-4c1f-88d1-bec81fb1e023",
   "metadata": {},
   "source": [
    "# SERIES"
   ]
  },
  {
   "cell_type": "code",
   "execution_count": 10,
   "id": "29b2b378-d70c-48a4-be03-c7ea92586b76",
   "metadata": {},
   "outputs": [
    {
     "name": "stdout",
     "output_type": "stream",
     "text": [
      "0    3\n",
      "1    4\n",
      "2    5\n",
      "3    6\n",
      "4    7\n",
      "5    8\n",
      "dtype: int64\n",
      "<class 'pandas.core.series.Series'>\n"
     ]
    }
   ],
   "source": [
    "x = [3,4,5,6,7,8]\n",
    "\n",
    "var = pd.Series(x)\n",
    "\n",
    "print(var)\n",
    "\n",
    "print(type(var))"
   ]
  },
  {
   "cell_type": "code",
   "execution_count": 14,
   "id": "5db9ea2d-7e87-46fd-b089-047bdd928407",
   "metadata": {},
   "outputs": [
    {
     "name": "stdout",
     "output_type": "stream",
     "text": [
      "5\n",
      "\n",
      "3\n",
      "\n",
      "8\n"
     ]
    }
   ],
   "source": [
    "# acessing the elements of a series using index:\n",
    "\n",
    "print(var[2])\n",
    "\n",
    "print()\n",
    "\n",
    "print(var[0])\n",
    "\n",
    "print()\n",
    "\n",
    "print(var[5])"
   ]
  },
  {
   "cell_type": "code",
   "execution_count": 24,
   "id": "871d4af8-aaa0-4b44-8464-0519d3608c65",
   "metadata": {},
   "outputs": [
    {
     "name": "stdout",
     "output_type": "stream",
     "text": [
      "a     2\n",
      "s     4\n",
      "d     6\n",
      "f     8\n",
      "e    10\n",
      "n    12\n",
      "g    14\n",
      "dtype: int64\n",
      "<class 'pandas.core.series.Series'>\n",
      "6\n",
      "\n",
      "8\n"
     ]
    }
   ],
   "source": [
    "# changing the index name in series:\n",
    "\n",
    "y = [2,4,6,8,10,12,14]\n",
    "\n",
    "var_1 = pd.Series(y,index = [\"a\",\"s\",\"d\",\"f\",\"e\",\"n\",\"g\"])\n",
    "                  \n",
    "print(var_1)\n",
    "\n",
    "print(type(var_1))\n",
    "\n",
    "# accesing the element using index:\n",
    "\n",
    "print(var_1[\"d\"])\n",
    "\n",
    "print()\n",
    "\n",
    "print(var_1[\"f\"])\n",
    "                  "
   ]
  },
  {
   "cell_type": "code",
   "execution_count": 26,
   "id": "9a4a0e51-7bf7-43dc-b344-ad96af9a9b0c",
   "metadata": {},
   "outputs": [
    {
     "name": "stdout",
     "output_type": "stream",
     "text": [
      "a     2.0\n",
      "s     4.0\n",
      "d     6.0\n",
      "f     8.0\n",
      "e    10.0\n",
      "n    12.0\n",
      "g    14.0\n",
      "dtype: float64\n",
      "<class 'pandas.core.series.Series'>\n"
     ]
    }
   ],
   "source": [
    "# changing the datatype of series:\n",
    "\n",
    "y = [2,4,6,8,10,12,14]\n",
    "\n",
    "var_1 = pd.Series(y,index = [\"a\",\"s\",\"d\",\"f\",\"e\",\"n\",\"g\"],dtype = \"float\")\n",
    "                  \n",
    "print(var_1)\n",
    "\n",
    "print(type(var_1))"
   ]
  },
  {
   "cell_type": "code",
   "execution_count": 28,
   "id": "3a617764-119d-4782-9c94-b78ac580cd9b",
   "metadata": {},
   "outputs": [
    {
     "name": "stdout",
     "output_type": "stream",
     "text": [
      "a     2.0\n",
      "s     4.0\n",
      "d     6.0\n",
      "f     8.0\n",
      "e    10.0\n",
      "n    12.0\n",
      "g    14.0\n",
      "Name: python, dtype: float64\n",
      "<class 'pandas.core.series.Series'>\n"
     ]
    }
   ],
   "source": [
    "# giving the name:\n",
    "\n",
    "y = [2,4,6,8,10,12,14]\n",
    "\n",
    "var_1 = pd.Series(y,index = [\"a\",\"s\",\"d\",\"f\",\"e\",\"n\",\"g\"],dtype = \"float\",name = \"python\")\n",
    "                  \n",
    "print(var_1)\n",
    "\n",
    "print(type(var_1))"
   ]
  },
  {
   "cell_type": "code",
   "execution_count": 30,
   "id": "ae1627e9-5d50-413f-8832-9f2ba472b6e2",
   "metadata": {},
   "outputs": [
    {
     "name": "stdout",
     "output_type": "stream",
     "text": [
      "name    [python, c, c++, java]\n",
      "por           [12, 13, 14, 15]\n",
      "rank              [1, 2, 4, 3]\n",
      "dtype: object\n"
     ]
    }
   ],
   "source": [
    "# creating series using dictionary:\n",
    "\n",
    "dic = {\"name\":[\"python\" , \"c\" , \"c++\" ,\"java\"] , \"por\":[12,13,14,15],\"rank\":[1,2,4,3]}\n",
    "\n",
    "var1 = pd.Series(dic)\n",
    "\n",
    "print(var1)"
   ]
  },
  {
   "cell_type": "code",
   "execution_count": 32,
   "id": "e36c3cb5-fc9b-4856-b706-15fc32da84eb",
   "metadata": {},
   "outputs": [
    {
     "name": "stdout",
     "output_type": "stream",
     "text": [
      "1    12\n",
      "2    12\n",
      "3    12\n",
      "4    12\n",
      "5    12\n",
      "6    12\n",
      "7    12\n",
      "dtype: int64\n",
      "<class 'pandas.core.series.Series'>\n"
     ]
    }
   ],
   "source": [
    "# creating series by using the same number:\n",
    "\n",
    "s = pd.Series(12,index = [1,2,3,4,5,6,7])\n",
    "print(s)\n",
    "print(type(s))"
   ]
  },
  {
   "cell_type": "code",
   "execution_count": 36,
   "id": "d20e49ea-36ab-4822-9c25-d9c82ba82f8a",
   "metadata": {},
   "outputs": [
    {
     "ename": "TypeError",
     "evalue": "Series.__init__() got multiple values for argument 'index'",
     "output_type": "error",
     "traceback": [
      "\u001b[1;31m---------------------------------------------------------------------------\u001b[0m",
      "\u001b[1;31mTypeError\u001b[0m                                 Traceback (most recent call last)",
      "Cell \u001b[1;32mIn[36], line 1\u001b[0m\n\u001b[1;32m----> 1\u001b[0m s \u001b[38;5;241m=\u001b[39m pd\u001b[38;5;241m.\u001b[39mSeries(\u001b[38;5;241m12\u001b[39m,\u001b[38;5;241m13\u001b[39m,index \u001b[38;5;241m=\u001b[39m [\u001b[38;5;241m1\u001b[39m,\u001b[38;5;241m2\u001b[39m,\u001b[38;5;241m3\u001b[39m,\u001b[38;5;241m4\u001b[39m,\u001b[38;5;241m5\u001b[39m,\u001b[38;5;241m6\u001b[39m,\u001b[38;5;241m7\u001b[39m])\n\u001b[0;32m      2\u001b[0m \u001b[38;5;28mprint\u001b[39m(s)\n\u001b[0;32m      3\u001b[0m \u001b[38;5;28mprint\u001b[39m(\u001b[38;5;28mtype\u001b[39m(s))\n",
      "\u001b[1;31mTypeError\u001b[0m: Series.__init__() got multiple values for argument 'index'"
     ]
    }
   ],
   "source": [
    "# we can't give multiple arguments:\n",
    "\n",
    "s = pd.Series(12,13,index = [1,2,3,4,5,6,7])\n",
    "print(s)\n",
    "print(type(s))"
   ]
  },
  {
   "cell_type": "code",
   "execution_count": 38,
   "id": "61f3d835-fc4a-4c32-9069-b740dc6f7115",
   "metadata": {},
   "outputs": [
    {
     "ename": "ValueError",
     "evalue": "Length of values (5) does not match length of index (7)",
     "output_type": "error",
     "traceback": [
      "\u001b[1;31m---------------------------------------------------------------------------\u001b[0m",
      "\u001b[1;31mValueError\u001b[0m                                Traceback (most recent call last)",
      "Cell \u001b[1;32mIn[38], line 2\u001b[0m\n\u001b[0;32m      1\u001b[0m a\u001b[38;5;241m=\u001b[39m[\u001b[38;5;241m12\u001b[39m,\u001b[38;5;241m12\u001b[39m,\u001b[38;5;241m12\u001b[39m,\u001b[38;5;241m12\u001b[39m,\u001b[38;5;241m12\u001b[39m]\n\u001b[1;32m----> 2\u001b[0m s \u001b[38;5;241m=\u001b[39m pd\u001b[38;5;241m.\u001b[39mSeries(a,index \u001b[38;5;241m=\u001b[39m [\u001b[38;5;241m1\u001b[39m,\u001b[38;5;241m2\u001b[39m,\u001b[38;5;241m3\u001b[39m,\u001b[38;5;241m4\u001b[39m,\u001b[38;5;241m5\u001b[39m,\u001b[38;5;241m6\u001b[39m,\u001b[38;5;241m7\u001b[39m])\n\u001b[0;32m      3\u001b[0m \u001b[38;5;28mprint\u001b[39m(s)\n\u001b[0;32m      4\u001b[0m \u001b[38;5;28mprint\u001b[39m(\u001b[38;5;28mtype\u001b[39m(s))\n",
      "File \u001b[1;32m~\\anaconda3\\Lib\\site-packages\\pandas\\core\\series.py:575\u001b[0m, in \u001b[0;36mSeries.__init__\u001b[1;34m(self, data, index, dtype, name, copy, fastpath)\u001b[0m\n\u001b[0;32m    573\u001b[0m     index \u001b[38;5;241m=\u001b[39m default_index(\u001b[38;5;28mlen\u001b[39m(data))\n\u001b[0;32m    574\u001b[0m \u001b[38;5;28;01melif\u001b[39;00m is_list_like(data):\n\u001b[1;32m--> 575\u001b[0m     com\u001b[38;5;241m.\u001b[39mrequire_length_match(data, index)\n\u001b[0;32m    577\u001b[0m \u001b[38;5;66;03m# create/copy the manager\u001b[39;00m\n\u001b[0;32m    578\u001b[0m \u001b[38;5;28;01mif\u001b[39;00m \u001b[38;5;28misinstance\u001b[39m(data, (SingleBlockManager, SingleArrayManager)):\n",
      "File \u001b[1;32m~\\anaconda3\\Lib\\site-packages\\pandas\\core\\common.py:573\u001b[0m, in \u001b[0;36mrequire_length_match\u001b[1;34m(data, index)\u001b[0m\n\u001b[0;32m    569\u001b[0m \u001b[38;5;250m\u001b[39m\u001b[38;5;124;03m\"\"\"\u001b[39;00m\n\u001b[0;32m    570\u001b[0m \u001b[38;5;124;03mCheck the length of data matches the length of the index.\u001b[39;00m\n\u001b[0;32m    571\u001b[0m \u001b[38;5;124;03m\"\"\"\u001b[39;00m\n\u001b[0;32m    572\u001b[0m \u001b[38;5;28;01mif\u001b[39;00m \u001b[38;5;28mlen\u001b[39m(data) \u001b[38;5;241m!=\u001b[39m \u001b[38;5;28mlen\u001b[39m(index):\n\u001b[1;32m--> 573\u001b[0m     \u001b[38;5;28;01mraise\u001b[39;00m \u001b[38;5;167;01mValueError\u001b[39;00m(\n\u001b[0;32m    574\u001b[0m         \u001b[38;5;124m\"\u001b[39m\u001b[38;5;124mLength of values \u001b[39m\u001b[38;5;124m\"\u001b[39m\n\u001b[0;32m    575\u001b[0m         \u001b[38;5;124mf\u001b[39m\u001b[38;5;124m\"\u001b[39m\u001b[38;5;124m(\u001b[39m\u001b[38;5;132;01m{\u001b[39;00m\u001b[38;5;28mlen\u001b[39m(data)\u001b[38;5;132;01m}\u001b[39;00m\u001b[38;5;124m) \u001b[39m\u001b[38;5;124m\"\u001b[39m\n\u001b[0;32m    576\u001b[0m         \u001b[38;5;124m\"\u001b[39m\u001b[38;5;124mdoes not match length of index \u001b[39m\u001b[38;5;124m\"\u001b[39m\n\u001b[0;32m    577\u001b[0m         \u001b[38;5;124mf\u001b[39m\u001b[38;5;124m\"\u001b[39m\u001b[38;5;124m(\u001b[39m\u001b[38;5;132;01m{\u001b[39;00m\u001b[38;5;28mlen\u001b[39m(index)\u001b[38;5;132;01m}\u001b[39;00m\u001b[38;5;124m)\u001b[39m\u001b[38;5;124m\"\u001b[39m\n\u001b[0;32m    578\u001b[0m     )\n",
      "\u001b[1;31mValueError\u001b[0m: Length of values (5) does not match length of index (7)"
     ]
    }
   ],
   "source": [
    "# length of values should be equal to values of index:\n",
    "\n",
    "a=[12,12,12,12,12]\n",
    "s = pd.Series(a,index = [1,2,3,4,5,6,7])\n",
    "print(s)\n",
    "print(type(s))"
   ]
  },
  {
   "cell_type": "code",
   "execution_count": null,
   "id": "69841219-1a84-4fc1-a0c0-69dbdd39c260",
   "metadata": {},
   "outputs": [],
   "source": [
    "# DATA FR"
   ]
  }
 ],
 "metadata": {
  "kernelspec": {
   "display_name": "Python 3 (ipykernel)",
   "language": "python",
   "name": "python3"
  },
  "language_info": {
   "codemirror_mode": {
    "name": "ipython",
    "version": 3
   },
   "file_extension": ".py",
   "mimetype": "text/x-python",
   "name": "python",
   "nbconvert_exporter": "python",
   "pygments_lexer": "ipython3",
   "version": "3.12.7"
  }
 },
 "nbformat": 4,
 "nbformat_minor": 5
}
